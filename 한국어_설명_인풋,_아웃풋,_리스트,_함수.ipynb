{
  "nbformat": 4,
  "nbformat_minor": 0,
  "metadata": {
    "colab": {
      "provenance": [],
      "authorship_tag": "ABX9TyNqGhHgux9wE9TjmbCgmR/j",
      "include_colab_link": true
    },
    "kernelspec": {
      "name": "python3",
      "display_name": "Python 3"
    },
    "language_info": {
      "name": "python"
    }
  },
  "cells": [
    {
      "cell_type": "markdown",
      "metadata": {
        "id": "view-in-github",
        "colab_type": "text"
      },
      "source": [
        "<a href=\"https://colab.research.google.com/github/dhlee3146/dhlee3146/blob/main/%ED%95%9C%EA%B5%AD%EC%96%B4_%EC%84%A4%EB%AA%85_%EC%9D%B8%ED%92%8B%2C_%EC%95%84%EC%9B%83%ED%92%8B%2C_%EB%A6%AC%EC%8A%A4%ED%8A%B8%2C_%ED%95%A8%EC%88%98.ipynb\" target=\"_parent\"><img src=\"https://colab.research.google.com/assets/colab-badge.svg\" alt=\"Open In Colab\"/></a>"
      ]
    },
    {
      "cell_type": "markdown",
      "source": [
        "원본 페이지\n",
        "[This_page](https://colab.research.google.com/github/MK316/Spring2024/blob/main/DLEE/DLW04.ipynb#scrollTo=LyTw7phONZHE)"
      ],
      "metadata": {
        "id": "qARJbj0Kmbwt"
      }
    },
    {
      "cell_type": "markdown",
      "source": [
        "##INPUT, OUTPUT\n",
        "인풋과 아웃풋을 만들자!"
      ],
      "metadata": {
        "id": "71vfAjA3fMgh"
      }
    },
    {
      "cell_type": "code",
      "execution_count": null,
      "metadata": {
        "colab": {
          "base_uri": "https://localhost:8080/"
        },
        "id": "IjFz5qNP02ka",
        "outputId": "2e6c7636-fd47-4a3b-fae5-8fc0d0b3d5db"
      },
      "outputs": [
        {
          "output_type": "stream",
          "name": "stdout",
          "text": [
            "여기에 질문앤써\n",
            "******************************\n",
            "\n",
            "\n",
            " 내 대답은 앤써.\n"
          ]
        }
      ],
      "source": [
        "#인풋 아웃풋 만들기\n",
        "\n",
        "answer = input(\"여기에 질문\") #이런 형식으로 만들면 대답란이 생김\n",
        "\n",
        "print(\"*\"*30) #This is just a line,\n",
        "print(\"\\n\\n\",f\"내 대답은 {answer}.\") #\"\\n\\n\"는 그냥 한 칸 띄우는 것, f\"정해진부분 {대답한 것이 뜨는 부분}.\""
      ]
    },
    {
      "cell_type": "markdown",
      "source": [
        "##LIST\n",
        "---------------------\n",
        "1. 리스트를 만들자\n",
        "2. 순서별로만들자\n",
        "3. 첫 번째, 마지막 요소를 프린트하는 법\n",
        "4. 리스트에 바로 추가하는 법\n",
        "5. 리스트에서 지우는 법\n",
        "6. 리스트를 자르는 법\n",
        "7. 리스트 안에 아이템 있는지 확인하는 법\n"
      ],
      "metadata": {
        "id": "49sVEqrqfXvY"
      }
    },
    {
      "cell_type": "code",
      "source": [
        "#리스트를 만들자.\n",
        "리스트이름 = [\"1번항목\", \"2번항목\", \"3번 항목\"]"
      ],
      "metadata": {
        "id": "Ekx814Mc1VDn"
      },
      "execution_count": 17,
      "outputs": []
    },
    {
      "cell_type": "code",
      "source": [
        "print(리스트이름[0])\n",
        "print(리스트이름[1])\n",
        "print(리스트이름[2])\n",
        "\n",
        "print(리스트이름[1:3])"
      ],
      "metadata": {
        "colab": {
          "base_uri": "https://localhost:8080/"
        },
        "id": "FgtmSVKP2REM",
        "outputId": "ee7f83d7-3634-4614-8aa3-dd92387e1bb5"
      },
      "execution_count": 18,
      "outputs": [
        {
          "output_type": "stream",
          "name": "stdout",
          "text": [
            "1번항목\n",
            "2번항목\n",
            "3번 항목\n",
            "['2번항목', '3번 항목']\n"
          ]
        }
      ]
    },
    {
      "cell_type": "code",
      "source": [
        "#세로정렬(lterating trough a list)\n",
        "for 세로정렬 in 리스트이름:\n",
        "    print(세로정렬)\n",
        "    #for i in range(0,10): ; print(i) 이거는 숫자 0부터 9까지 나열함"
      ],
      "metadata": {
        "colab": {
          "base_uri": "https://localhost:8080/"
        },
        "id": "YQBczLFL3lm_",
        "outputId": "5d58d0d8-87bd-44aa-bcfb-f38f3c88bb0a"
      },
      "execution_count": 19,
      "outputs": [
        {
          "output_type": "stream",
          "name": "stdout",
          "text": [
            "1번항목\n",
            "2번항목\n",
            "3번 항목\n"
          ]
        }
      ]
    },
    {
      "cell_type": "code",
      "source": [
        "#영어 순서대로 정렬(sorting a list)\n",
        "Name = [\"Bin\", \"Cinamon\", \"Anne\"]\n",
        "print(Name)\n",
        "\n",
        "sorted_name = sorted(Name)\n",
        "print(sorted_name)"
      ],
      "metadata": {
        "colab": {
          "base_uri": "https://localhost:8080/"
        },
        "id": "2iKW2CvR3wub",
        "outputId": "36aebb7a-cc03-43d1-c88a-3f29643dd17b"
      },
      "execution_count": 8,
      "outputs": [
        {
          "output_type": "stream",
          "name": "stdout",
          "text": [
            "['Bin', 'Cinamon', 'Anne']\n",
            "['Anne', 'Bin', 'Cinamon']\n"
          ]
        }
      ]
    },
    {
      "cell_type": "code",
      "source": [
        "# 첫 번째 요소를 프린트 하자\n",
        "첫_이름 = Name[0]  # 'Bin'\n",
        "print(첫_이름)\n",
        "\n",
        "# 마지막 요소를 프린트 하자\n",
        "마지막_이름 = Name[-1]  # 'Anne'\n",
        "print(마지막_이름)\n",
        "print(Name)"
      ],
      "metadata": {
        "id": "bXIOVZOef3bJ",
        "outputId": "5dc8a1e7-e173-4f4d-dd55-5e1547a0d0be",
        "colab": {
          "base_uri": "https://localhost:8080/"
        }
      },
      "execution_count": 9,
      "outputs": [
        {
          "output_type": "stream",
          "name": "stdout",
          "text": [
            "Bin\n",
            "Anne\n",
            "['Bin', 'Cinamon', 'Anne']\n"
          ]
        }
      ]
    },
    {
      "cell_type": "code",
      "source": [
        "# 리스트 끝에 요소를 추가하자\n",
        "print(Name)\n",
        "Name.append(\"Cina\")\n",
        "print(Name)\n",
        "\n",
        "# 리스트 중간 특정 위치에 요소를 추가하자\n",
        "Name.insert(1, \"Nadi\")  # Nadi를 리스트 1번 위치에 삽입\n",
        "print(Name)"
      ],
      "metadata": {
        "id": "kIwNKHbNpKrK",
        "outputId": "a81a5bb5-4da0-4a60-a6e4-6d2bbacf5477",
        "colab": {
          "base_uri": "https://localhost:8080/"
        }
      },
      "execution_count": 10,
      "outputs": [
        {
          "output_type": "stream",
          "name": "stdout",
          "text": [
            "['Bin', 'Cinamon', 'Anne']\n",
            "['Bin', 'Cinamon', 'Anne', 'Cina']\n",
            "['Bin', 'Nadi', 'Cinamon', 'Anne', 'Cina']\n"
          ]
        }
      ]
    },
    {
      "cell_type": "code",
      "source": [
        "# value를 이용해 하나의 요소를 지워보자\n",
        "# 몇 가지 요소를 이용해 리스트를 만들어보자\n",
        "Name = [\"Bin\", \"Cinamon\", \"Anne\"]\n",
        "\n",
        "Name.remove(\"Cinamon\")\n",
        "print(Name)\n",
        "# index를 이용해 하나의 요소를 지워보자\n",
        "del Name[1]  # Removes the first element\n",
        "\n",
        "print(Name)"
      ],
      "metadata": {
        "id": "BV3rTRFMh1HY",
        "outputId": "b5fb2488-ef39-4d67-849b-bf6c8e6f9a1f",
        "colab": {
          "base_uri": "https://localhost:8080/"
        }
      },
      "execution_count": 13,
      "outputs": [
        {
          "output_type": "stream",
          "name": "stdout",
          "text": [
            "['Bin', 'Anne']\n",
            "['Bin']\n"
          ]
        }
      ]
    },
    {
      "cell_type": "code",
      "source": [
        "# 파이썬에서 index는 0부터 시작함을 명심하자\n",
        "Name = [\"Bin\", \"Cinamon\", \"Anne\", \"Cina\", \"Nadi\"]\n",
        "\n",
        "# 2번째부터 4번째까지 있는 것들을 잘라내자\n",
        "a1 = Name[1:4]; print(\"Name: \", a1) #2번(1위치)부터 4번(3위치)가 나옴. 4위치에 해당하는 것(5번) 안 나옴\n",
        "\n",
        "# Slicing from the start to the 3rd position\n",
        "# 시작부터 세번 째 위치의 것까지 자르자\n",
        "a2 = Name[:3]; print(\"a2: \", a2) #이러면 4번째꺼 앞까지 나오는 거란 것을 명심하자\n",
        "\n",
        "# Slicing from 3rd position to the end\n",
        "# 3번째부터 끝까지 자르자 #이거는 2위치 포함 나옴을 명심(3번째꺼란 뜻)\n",
        "a3 = Name[2:]; print(\"a3: \", a3)"
      ],
      "metadata": {
        "id": "o2--zR3Ti5zf",
        "outputId": "9a2cc09e-2e7d-41b8-f2e4-293a2aa31836",
        "colab": {
          "base_uri": "https://localhost:8080/"
        }
      },
      "execution_count": 20,
      "outputs": [
        {
          "output_type": "stream",
          "name": "stdout",
          "text": [
            "Name:  ['Cinamon', 'Anne', 'Cina']\n",
            "a2:  ['Bin', 'Cinamon', 'Anne']\n",
            "a3:  ['Anne', 'Cina', 'Nadi']\n"
          ]
        }
      ]
    },
    {
      "cell_type": "code",
      "source": [
        "# 해당 아이템이 리스트 안에 있는지 확인하자\n",
        "if \"Cina\" in Name:\n",
        "    print(\"Cina is in the list\")"
      ],
      "metadata": {
        "id": "qnKnJMuulMCG",
        "outputId": "6accd827-9be3-4a58-939a-3d9c5aaf992a",
        "colab": {
          "base_uri": "https://localhost:8080/"
        }
      },
      "execution_count": 23,
      "outputs": [
        {
          "output_type": "stream",
          "name": "stdout",
          "text": [
            "Cina is in the list\n"
          ]
        }
      ]
    },
    {
      "cell_type": "code",
      "source": [
        "request = input(\"Which one do you want to check? \")\n",
        "\n",
        "if request in Name:\n",
        "  print(f\"The word '{request}' is in the list.\")\n",
        "else:\n",
        "  print(f\"The word '{request}' is not in the list\")"
      ],
      "metadata": {
        "id": "rZYHDqeWlpEG",
        "outputId": "b6b3d6ac-03b0-48d8-8686-b6651e83e856",
        "colab": {
          "base_uri": "https://localhost:8080/"
        }
      },
      "execution_count": 24,
      "outputs": [
        {
          "output_type": "stream",
          "name": "stdout",
          "text": [
            "Which one do you want to check? Nadi\n",
            "The word 'Nadi' is in the list.\n"
          ]
        }
      ]
    },
    {
      "cell_type": "code",
      "source": [
        "#list and index\n",
        "a = [1, \"Mary\", 4, \"John\"]\n",
        "\n",
        "a1 = a[0] + a[2]\n",
        "a3 = a[1] + a[3]\n",
        "print(a1, a3) #string이랑 숫자 같이 쓰면 에러남"
      ],
      "metadata": {
        "id": "_sz0wpmxl0-f",
        "outputId": "21a10709-5a6e-4fcf-acac-54a2916c30c3",
        "colab": {
          "base_uri": "https://localhost:8080/"
        }
      },
      "execution_count": 25,
      "outputs": [
        {
          "output_type": "stream",
          "name": "stdout",
          "text": [
            "5 MaryJohn\n"
          ]
        }
      ]
    },
    {
      "cell_type": "markdown",
      "source": [
        "##함수!!"
      ],
      "metadata": {
        "id": "qvQjEQmQmVqO"
      }
    },
    {
      "cell_type": "code",
      "source": [
        "#숫자를 이용한 함수를 만들자.\n",
        "def add_numbers(num1, num2):\n",
        "    result = num1 + num2\n",
        "    return result\n",
        "\n",
        "print(add_numbers(1, 7))"
      ],
      "metadata": {
        "colab": {
          "base_uri": "https://localhost:8080/"
        },
        "id": "-IIO9FUc25wv",
        "outputId": "e4b82ee7-7e18-435a-cf9e-36e96b540a5b"
      },
      "execution_count": null,
      "outputs": [
        {
          "output_type": "stream",
          "name": "stdout",
          "text": [
            "8\n"
          ]
        }
      ]
    },
    {
      "cell_type": "markdown",
      "source": [
        "##Dictionary"
      ],
      "metadata": {
        "id": "yS2LYDhXnFB9"
      }
    },
    {
      "cell_type": "code",
      "source": [
        "# 빈 딕셔너리\n",
        "empty_dict = {}\n",
        "\n",
        "# 데이터가 있는 딕셔너리 Dictionary with some data\n",
        "person = {\"name\": \"John\", \"age\": 30, \"city\": \"New York\"}"
      ],
      "metadata": {
        "id": "j5q4X4xUnKmW"
      },
      "execution_count": 28,
      "outputs": []
    },
    {
      "cell_type": "code",
      "source": [
        "# key를 이용해 value에 접근해보자\n",
        "name = person[\"name\"]  # \"John\"\n",
        "print(name)\n",
        "\n",
        "# Using get() method which returns None if key not found\n",
        "#key가 발견되지 않으면 None을 값으로 출력하는 것을 ()를 이용해 만들어보자\n",
        "occupation = person.get(\"occupation\")  # None\n",
        "print(occupation)"
      ],
      "metadata": {
        "id": "SsJtcXOgnlA9",
        "outputId": "3a495b16-685a-408f-c64a-9ab4f02ef0f3",
        "colab": {
          "base_uri": "https://localhost:8080/"
        }
      },
      "execution_count": 29,
      "outputs": [
        {
          "output_type": "stream",
          "name": "stdout",
          "text": [
            "John\n",
            "None\n"
          ]
        }
      ]
    },
    {
      "cell_type": "code",
      "source": [
        "# 새 key-value 페어를 만들어보자\n",
        "person[\"occupation\"] = \"Engineer\"\n",
        "\n",
        "# 존재하는 key-value 페어를 수정해보자\n",
        "person[\"age\"] = 31\n",
        "\n",
        "person"
      ],
      "metadata": {
        "id": "K40UJ3bqoP18",
        "outputId": "90242bba-c281-4c72-eb3d-324f74442bd2",
        "colab": {
          "base_uri": "https://localhost:8080/"
        }
      },
      "execution_count": 33,
      "outputs": [
        {
          "output_type": "execute_result",
          "data": {
            "text/plain": [
              "{'name': 'John', 'age': 31, 'city': 'New York', 'occupation': 'Engineer'}"
            ]
          },
          "metadata": {},
          "execution_count": 33
        }
      ]
    },
    {
      "cell_type": "code",
      "source": [
        "# key-value pair를 삭제해보자\n",
        "person = {\"name\": \"John\", \"age\": 30, \"city\": \"New York\"}\n",
        "\n",
        "del person[\"city\"]\n",
        "\n",
        "# Removing a key-value pair using pop()\n",
        "age = person.pop(\"age\")  # pop을 이용해 삭제를 해도 변수와 값은 따로 저장되어 있음\n",
        "\n",
        "print(person)\n",
        "print(age)"
      ],
      "metadata": {
        "id": "7vfIhBPPpPV8",
        "outputId": "86eb8979-eef1-4597-aff5-b95bea84a6e3",
        "colab": {
          "base_uri": "https://localhost:8080/"
        }
      },
      "execution_count": 34,
      "outputs": [
        {
          "output_type": "stream",
          "name": "stdout",
          "text": [
            "{'name': 'John'}\n",
            "30\n"
          ]
        }
      ]
    },
    {
      "cell_type": "code",
      "source": [
        "person = {\"name\": \"John\", \"age\": 30, \"city\": \"New York\"}\n",
        "\n",
        "# Iterating over keys\n",
        "for key in person:\n",
        "    print(key)\n",
        "\n",
        "# Iterating over values\n",
        "for value in person.values():\n",
        "    print(value)\n",
        "\n",
        "# Iterating over key-value pairs\n",
        "for key, value in person.items():\n",
        "    print(key, value)"
      ],
      "metadata": {
        "id": "nVJZwuq-qFZE",
        "outputId": "1e7fabbf-590e-4c92-df8c-ff8cb5dd9894",
        "colab": {
          "base_uri": "https://localhost:8080/"
        }
      },
      "execution_count": 36,
      "outputs": [
        {
          "output_type": "stream",
          "name": "stdout",
          "text": [
            "name\n",
            "age\n",
            "city\n",
            "John\n",
            "30\n",
            "New York\n",
            "name John\n",
            "age 30\n",
            "city New York\n"
          ]
        }
      ]
    }
  ]
}