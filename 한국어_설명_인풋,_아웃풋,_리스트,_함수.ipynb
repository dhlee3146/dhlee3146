{
  "nbformat": 4,
  "nbformat_minor": 0,
  "metadata": {
    "colab": {
      "provenance": [],
      "authorship_tag": "ABX9TyOTYLCyzb0PYyHGB1VT0mp4",
      "include_colab_link": true
    },
    "kernelspec": {
      "name": "python3",
      "display_name": "Python 3"
    },
    "language_info": {
      "name": "python"
    }
  },
  "cells": [
    {
      "cell_type": "markdown",
      "metadata": {
        "id": "view-in-github",
        "colab_type": "text"
      },
      "source": [
        "<a href=\"https://colab.research.google.com/github/dhlee3146/dhlee3146/blob/main/%ED%95%9C%EA%B5%AD%EC%96%B4_%EC%84%A4%EB%AA%85_%EC%9D%B8%ED%92%8B%2C_%EC%95%84%EC%9B%83%ED%92%8B%2C_%EB%A6%AC%EC%8A%A4%ED%8A%B8%2C_%ED%95%A8%EC%88%98.ipynb\" target=\"_parent\"><img src=\"https://colab.research.google.com/assets/colab-badge.svg\" alt=\"Open In Colab\"/></a>"
      ]
    },
    {
      "cell_type": "code",
      "execution_count": 4,
      "metadata": {
        "colab": {
          "base_uri": "https://localhost:8080/"
        },
        "id": "IjFz5qNP02ka",
        "outputId": "2e6c7636-fd47-4a3b-fae5-8fc0d0b3d5db"
      },
      "outputs": [
        {
          "output_type": "stream",
          "name": "stdout",
          "text": [
            "여기에 질문앤써\n",
            "******************************\n",
            "\n",
            "\n",
            " 내 대답은 앤써.\n"
          ]
        }
      ],
      "source": [
        "#인풋 아웃풋 만들기\n",
        "\n",
        "answer = input(\"여기에 질문\") #이런 형식으로 만들면 대답란이 생김\n",
        "\n",
        "print(\"*\"*30) #This is just a line,\n",
        "print(\"\\n\\n\",f\"내 대답은 {answer}.\") #\"\\n\\n\"는 그냥 한 칸 띄우는 것, f\"정해진부분 {대답한 것이 뜨는 부분}.\""
      ]
    },
    {
      "cell_type": "code",
      "source": [
        "#리스트를 만들자.\n",
        "리스트이름 = [\"1번항목\", \"2번항목\", \"3번 항목\"]"
      ],
      "metadata": {
        "id": "Ekx814Mc1VDn"
      },
      "execution_count": 6,
      "outputs": []
    },
    {
      "cell_type": "code",
      "source": [
        "print(리스트이름[0])\n",
        "print(리스트이름[1])\n",
        "print(리스트이름[2])\n",
        "\n",
        "print(리스트이름[1:3])"
      ],
      "metadata": {
        "colab": {
          "base_uri": "https://localhost:8080/"
        },
        "id": "FgtmSVKP2REM",
        "outputId": "59bd3657-42f9-4e57-c078-3062283af389"
      },
      "execution_count": 12,
      "outputs": [
        {
          "output_type": "stream",
          "name": "stdout",
          "text": [
            "1번항목\n",
            "2번항목\n",
            "3번 항목\n",
            "['2번항목', '3번 항목']\n"
          ]
        }
      ]
    },
    {
      "cell_type": "code",
      "source": [
        "for 세로정렬 in 리스트이름:\n",
        "    print(세로정렬)"
      ],
      "metadata": {
        "colab": {
          "base_uri": "https://localhost:8080/"
        },
        "id": "YQBczLFL3lm_",
        "outputId": "646baf08-d3f0-44fc-d08d-62b3d7641788"
      },
      "execution_count": 20,
      "outputs": [
        {
          "output_type": "stream",
          "name": "stdout",
          "text": [
            "1번항목\n",
            "2번항목\n",
            "3번 항목\n"
          ]
        }
      ]
    },
    {
      "cell_type": "code",
      "source": [
        "#영어 순서대로 정렬\n",
        "Name = [\"Bin\", \"Cinamon\", \"Anne\"]\n",
        "print(Name)\n",
        "\n",
        "sorted_name = sorted(Name)\n",
        "print(sorted_name)"
      ],
      "metadata": {
        "colab": {
          "base_uri": "https://localhost:8080/"
        },
        "id": "2iKW2CvR3wub",
        "outputId": "e1dded19-a6a0-4cc0-9713-3fc380063fc9"
      },
      "execution_count": 21,
      "outputs": [
        {
          "output_type": "stream",
          "name": "stdout",
          "text": [
            "['Bin', 'Cinamon', 'Anne']\n",
            "['Anne', 'Bin', 'Cinamon']\n"
          ]
        }
      ]
    },
    {
      "cell_type": "code",
      "source": [
        "#숫자를 이용한 함수를 만들자.\n",
        "def add_numbers(num1, num2):\n",
        "    result = num1 + num2\n",
        "    return result\n",
        "\n",
        "print(add_numbers(1, 7))"
      ],
      "metadata": {
        "colab": {
          "base_uri": "https://localhost:8080/"
        },
        "id": "-IIO9FUc25wv",
        "outputId": "e4b82ee7-7e18-435a-cf9e-36e96b540a5b"
      },
      "execution_count": 19,
      "outputs": [
        {
          "output_type": "stream",
          "name": "stdout",
          "text": [
            "8\n"
          ]
        }
      ]
    },
    {
      "cell_type": "code",
      "source": [],
      "metadata": {
        "id": "suxKS-ci36jk"
      },
      "execution_count": null,
      "outputs": []
    }
  ]
}