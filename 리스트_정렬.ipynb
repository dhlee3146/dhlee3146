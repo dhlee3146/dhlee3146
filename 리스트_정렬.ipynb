{
  "nbformat": 4,
  "nbformat_minor": 0,
  "metadata": {
    "colab": {
      "provenance": [],
      "authorship_tag": "ABX9TyP54mfcpu7N1J/XfEgRLDCd",
      "include_colab_link": true
    },
    "kernelspec": {
      "name": "python3",
      "display_name": "Python 3"
    },
    "language_info": {
      "name": "python"
    }
  },
  "cells": [
    {
      "cell_type": "markdown",
      "metadata": {
        "id": "view-in-github",
        "colab_type": "text"
      },
      "source": [
        "<a href=\"https://colab.research.google.com/github/dhlee3146/dhlee3146/blob/main/%EB%A6%AC%EC%8A%A4%ED%8A%B8_%EC%A0%95%EB%A0%AC.ipynb\" target=\"_parent\"><img src=\"https://colab.research.google.com/assets/colab-badge.svg\" alt=\"Open In Colab\"/></a>"
      ]
    },
    {
      "cell_type": "code",
      "execution_count": 1,
      "metadata": {
        "colab": {
          "base_uri": "https://localhost:8080/"
        },
        "id": "1JL1yX8T005h",
        "outputId": "71454c37-a105-4d29-8c21-b3dd167c6693"
      },
      "outputs": [
        {
          "output_type": "stream",
          "name": "stdout",
          "text": [
            "['Bin', 'Cinamon', 'Anne']\n"
          ]
        }
      ],
      "source": [
        "Name = [\"Bin\", \"Cinamon\", \"Anne\"]\n",
        "print(Name)"
      ]
    },
    {
      "cell_type": "code",
      "source": [
        "for name in Name:\n",
        "    print(name)"
      ],
      "metadata": {
        "colab": {
          "base_uri": "https://localhost:8080/"
        },
        "id": "aUFJ9tav1HPH",
        "outputId": "4dc6ac02-3b99-4c45-b90a-619b0543ea64"
      },
      "execution_count": 2,
      "outputs": [
        {
          "output_type": "stream",
          "name": "stdout",
          "text": [
            "Bin\n",
            "Cinamon\n",
            "Anne\n"
          ]
        }
      ]
    },
    {
      "cell_type": "code",
      "source": [
        "sorted_name = sorted(Name)\n",
        "print(sorted_name)"
      ],
      "metadata": {
        "colab": {
          "base_uri": "https://localhost:8080/"
        },
        "id": "69k1U6UY1Ox1",
        "outputId": "f98cd147-3879-469c-f3e8-7ba59740716b"
      },
      "execution_count": 3,
      "outputs": [
        {
          "output_type": "stream",
          "name": "stdout",
          "text": [
            "['Anne', 'Bin', 'Cinamon']\n"
          ]
        }
      ]
    }
  ]
}
