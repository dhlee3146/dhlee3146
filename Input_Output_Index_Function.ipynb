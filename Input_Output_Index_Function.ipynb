{
  "nbformat": 4,
  "nbformat_minor": 0,
  "metadata": {
    "colab": {
      "provenance": [],
      "authorship_tag": "ABX9TyMLi/8LsDtx/L7k9m/U0WPT",
      "include_colab_link": true
    },
    "kernelspec": {
      "name": "python3",
      "display_name": "Python 3"
    },
    "language_info": {
      "name": "python"
    }
  },
  "cells": [
    {
      "cell_type": "markdown",
      "metadata": {
        "id": "view-in-github",
        "colab_type": "text"
      },
      "source": [
        "<a href=\"https://colab.research.google.com/github/dhlee3146/dhlee3146/blob/main/Input_Output_Index_Function.ipynb\" target=\"_parent\"><img src=\"https://colab.research.google.com/assets/colab-badge.svg\" alt=\"Open In Colab\"/></a>"
      ]
    },
    {
      "cell_type": "markdown",
      "source": [
        "###표 만들기 |\n",
        "\n",
        "|week|class meeting|content|\n",
        "|---|---|---|\n",
        "|W01|Mar 6|Course overview|\n",
        "|W02|Mar 13|Chapter 1|"
      ],
      "metadata": {
        "id": "Jd7dLhwKpK95"
      }
    },
    {
      "cell_type": "code",
      "source": [
        "#@markdown ###EXAMPEL\n",
        "#@markdown How make a set of input-output\n",
        "answer = input(\"What is your dream?\")\n",
        "\n",
        "print(\"*\"*30) #This is just a line,\n",
        "print(\"\\n\\n\",f\"My dream is {answer}.\")"
      ],
      "metadata": {
        "colab": {
          "base_uri": "https://localhost:8080/"
        },
        "id": "Jggbs2AQqL7C",
        "outputId": "b61f12c2-f7b3-445c-b1d8-0d63a3fb5a3b",
        "cellView": "form"
      },
      "execution_count": 17,
      "outputs": [
        {
          "output_type": "stream",
          "name": "stdout",
          "text": [
            "What is your dream?a writer\n",
            "******************************\n",
            "\n",
            "\n",
            " My dream is a writer.\n"
          ]
        }
      ]
    },
    {
      "cell_type": "code",
      "source": [
        "#@markdown More code sample: Word guessing game\n",
        "\n",
        "# Define a word and its hints\n",
        "word = \"apple\"\n",
        "hints = [\n",
        "    \"It's a type of fruit.\",\n",
        "    \"It can be red, green, or yellow.\",\n",
        "    \"It's often associated with the story of Isaac Newton.\",\n",
        "    \"This fruit's name starts with 'A'.\"\n",
        "]\n",
        "\n",
        "print(\"Welcome to the Progressive Hint Quiz!\")\n",
        "print(\"*\"*30)\n",
        "print(\"Try to guess the word. You'll receive up to 4 hints. Type 'exit' to quit.\")\n",
        "\n",
        "# User guess loop\n",
        "for hint in hints:\n",
        "    print(hint)  # Show the next hint\n",
        "    print(\"*\"*30)\n",
        "    guess = input(\"Your guess: \").strip().lower()  # Get user's guess, stripped of whitespace and converted to lowercase\n",
        "\n",
        "    if guess == \"exit\":\n",
        "        print(\"Thanks for playing! Goodbye.\")\n",
        "        break\n",
        "    elif guess == word:\n",
        "        print(\"Congratulations! You've guessed the word correctly.\")\n",
        "        break\n",
        "else:  # If the loop completes without a correct guess or exit\n",
        "    print(f\"Out of hints! The correct word was '{word}'. Better luck next time!\")\n"
      ],
      "metadata": {
        "cellView": "form",
        "id": "EWecxtZ9tlMY"
      },
      "execution_count": null,
      "outputs": []
    },
    {
      "cell_type": "code",
      "source": [
        "k = \"Python\"\n",
        "# [0] is how to access to the data using index\n",
        "print(k[0])\n",
        "print(k[0:2])\n",
        "print(k[-2:])\n",
        "print(k[:])"
      ],
      "metadata": {
        "colab": {
          "base_uri": "https://localhost:8080/"
        },
        "id": "gpejreMbtokw",
        "outputId": "b203d47c-df52-4f9a-de36-81072e1d16a2"
      },
      "execution_count": 18,
      "outputs": [
        {
          "output_type": "stream",
          "name": "stdout",
          "text": [
            "P\n",
            "Py\n",
            "on\n",
            "Python\n"
          ]
        }
      ]
    },
    {
      "cell_type": "code",
      "source": [
        "#@markdown ## How to make a Python index\n",
        "Fruits = [\"apple\", \"strawberry\", \"banana\"]\n",
        "print(Fruits[1])"
      ],
      "metadata": {
        "colab": {
          "base_uri": "https://localhost:8080/"
        },
        "cellView": "form",
        "id": "9mRlCm4Cug8o",
        "outputId": "1d066514-f9e0-493b-ce45-db3c5097f4ae"
      },
      "execution_count": 29,
      "outputs": [
        {
          "output_type": "stream",
          "name": "stdout",
          "text": [
            "strawberry\n"
          ]
        }
      ]
    },
    {
      "cell_type": "code",
      "source": [
        "x = 2; y = 5\n",
        "\n",
        "a1 = x + y\n",
        "a2 = x - y\n",
        "a3 = x * y\n",
        "a4 = x / y\n",
        "\n",
        "print(a1, a2, a3, a4)\n",
        "print(\"The answer of a1, a2, a3, a4:\", a1, a2, a3, a4)"
      ],
      "metadata": {
        "colab": {
          "base_uri": "https://localhost:8080/"
        },
        "id": "4H0uW96rv4D4",
        "outputId": "a1a1a393-65dc-4d6f-c934-93b38ce1b4f0"
      },
      "execution_count": 31,
      "outputs": [
        {
          "output_type": "stream",
          "name": "stdout",
          "text": [
            "7 -3 10 0.4\n",
            "The answer of a1, a2, a3, a4: 7 -3 10 0.4\n"
          ]
        }
      ]
    },
    {
      "cell_type": "code",
      "source": [
        "#@markdown ##함수만들기\n",
        "def add_numbers(num1, num2):\n",
        "    result = num1 + num2\n",
        "    return result\n",
        "\n",
        "print(add_numbers(17, 35))"
      ],
      "metadata": {
        "colab": {
          "base_uri": "https://localhost:8080/"
        },
        "id": "eLZOteDHwOuA",
        "outputId": "23600ebe-c1f1-49e4-968e-d421f69c2ea7"
      },
      "execution_count": 33,
      "outputs": [
        {
          "output_type": "stream",
          "name": "stdout",
          "text": [
            "52\n"
          ]
        }
      ]
    }
  ]
}