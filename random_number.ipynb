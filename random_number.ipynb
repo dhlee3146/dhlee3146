{
  "nbformat": 4,
  "nbformat_minor": 0,
  "metadata": {
    "colab": {
      "provenance": [],
      "authorship_tag": "ABX9TyO1ziYMQm7V6FYMD2b4b4nb",
      "include_colab_link": true
    },
    "kernelspec": {
      "name": "python3",
      "display_name": "Python 3"
    },
    "language_info": {
      "name": "python"
    }
  },
  "cells": [
    {
      "cell_type": "markdown",
      "metadata": {
        "id": "view-in-github",
        "colab_type": "text"
      },
      "source": [
        "<a href=\"https://colab.research.google.com/github/dhlee3146/dhlee3146/blob/main/random_number.ipynb\" target=\"_parent\"><img src=\"https://colab.research.google.com/assets/colab-badge.svg\" alt=\"Open In Colab\"/></a>"
      ]
    },
    {
      "cell_type": "code",
      "execution_count": 4,
      "metadata": {
        "colab": {
          "base_uri": "https://localhost:8080/"
        },
        "id": "MQgHfT37wzm6",
        "outputId": "a697898a-f4b7-4b43-a85c-a8068591a84d"
      },
      "outputs": [
        {
          "output_type": "stream",
          "name": "stdout",
          "text": [
            "The random number is: 7\n"
          ]
        }
      ],
      "source": [
        "import random\n",
        "\n",
        "random_number = random.randint(1, 10)\n",
        "\n",
        "print(\"The random number is:\", random_number)"
      ]
    },
    {
      "cell_type": "code",
      "source": [
        "random_number = random.randint(1, 10)\n",
        "\n",
        "random_number"
      ],
      "metadata": {
        "colab": {
          "base_uri": "https://localhost:8080/"
        },
        "id": "BtfywbNPxTUl",
        "outputId": "63a149b6-d030-401a-a0d8-250cba20da54"
      },
      "execution_count": 5,
      "outputs": [
        {
          "output_type": "execute_result",
          "data": {
            "text/plain": [
              "7"
            ]
          },
          "metadata": {},
          "execution_count": 5
        }
      ]
    },
    {
      "cell_type": "code",
      "source": [
        "random_number = random.randint(1, 10)\n",
        "\n",
        "random_number\n",
        "print(random_number)"
      ],
      "metadata": {
        "colab": {
          "base_uri": "https://localhost:8080/"
        },
        "id": "wPwsMsEGxVzU",
        "outputId": "ac716425-e1e5-4f16-b802-80d447bbb28b"
      },
      "execution_count": 6,
      "outputs": [
        {
          "output_type": "stream",
          "name": "stdout",
          "text": [
            "1\n"
          ]
        }
      ]
    },
    {
      "cell_type": "code",
      "source": [
        "random_number = random.randint(1, 10)\n",
        "\n",
        "print(random_number)\n",
        "random_number"
      ],
      "metadata": {
        "colab": {
          "base_uri": "https://localhost:8080/"
        },
        "id": "QozckRuNxcDs",
        "outputId": "8eba4351-45bf-4106-f641-275ff7ea4145"
      },
      "execution_count": 7,
      "outputs": [
        {
          "output_type": "stream",
          "name": "stdout",
          "text": [
            "1\n"
          ]
        },
        {
          "output_type": "execute_result",
          "data": {
            "text/plain": [
              "1"
            ]
          },
          "metadata": {},
          "execution_count": 7
        }
      ]
    },
    {
      "cell_type": "code",
      "source": [
        "# Code 4\n",
        "\n",
        "random_number = random.randint(1, 10)\n",
        "\n",
        "print(\"random_number:\", random_number)"
      ],
      "metadata": {
        "colab": {
          "base_uri": "https://localhost:8080/"
        },
        "id": "9drE5BQBxejk",
        "outputId": "35211222-6879-4a31-f943-64282a712a48"
      },
      "execution_count": 8,
      "outputs": [
        {
          "output_type": "stream",
          "name": "stdout",
          "text": [
            "random_number: 5\n"
          ]
        }
      ]
    },
    {
      "cell_type": "code",
      "source": [
        "# Code 5\n",
        "\n",
        "random_number = random.randint(1, 10)\n",
        "\n",
        "print(\"The random number is \", random_number)"
      ],
      "metadata": {
        "colab": {
          "base_uri": "https://localhost:8080/"
        },
        "id": "WpJdeTDDxhYk",
        "outputId": "6208f122-5fb0-425f-ffc7-74ab46e7a933"
      },
      "execution_count": 12,
      "outputs": [
        {
          "output_type": "stream",
          "name": "stdout",
          "text": [
            "The random number is  4\n"
          ]
        }
      ]
    }
  ]
}